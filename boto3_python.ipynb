{
 "cells": [
  {
   "cell_type": "code",
   "id": "initial_id",
   "metadata": {
    "collapsed": true,
    "ExecuteTime": {
     "end_time": "2024-10-25T17:23:05.525471Z",
     "start_time": "2024-10-25T17:22:37.811764Z"
    }
   },
   "source": [
    "# Install Boto3 in the Jupyter notebook\n",
    "!pip install boto3\n"
   ],
   "outputs": [
    {
     "name": "stdout",
     "output_type": "stream",
     "text": [
      "Collecting boto3\n",
      "  Using cached boto3-1.35.48-py3-none-any.whl.metadata (6.7 kB)\n",
      "Collecting botocore<1.36.0,>=1.35.48 (from boto3)\n",
      "  Using cached botocore-1.35.48-py3-none-any.whl.metadata (5.7 kB)\n",
      "Requirement already satisfied: jmespath<2.0.0,>=0.7.1 in c:\\users\\narasimha\\anaconda3\\lib\\site-packages (from boto3) (1.0.1)\n",
      "Collecting s3transfer<0.11.0,>=0.10.0 (from boto3)\n",
      "  Using cached s3transfer-0.10.3-py3-none-any.whl.metadata (1.7 kB)\n",
      "Requirement already satisfied: python-dateutil<3.0.0,>=2.1 in c:\\users\\narasimha\\anaconda3\\lib\\site-packages (from botocore<1.36.0,>=1.35.48->boto3) (2.9.0.post0)\n",
      "Requirement already satisfied: urllib3!=2.2.0,<3,>=1.25.4 in c:\\users\\narasimha\\anaconda3\\lib\\site-packages (from botocore<1.36.0,>=1.35.48->boto3) (2.2.2)\n",
      "Requirement already satisfied: six>=1.5 in c:\\users\\narasimha\\anaconda3\\lib\\site-packages (from python-dateutil<3.0.0,>=2.1->botocore<1.36.0,>=1.35.48->boto3) (1.16.0)\n",
      "Using cached boto3-1.35.48-py3-none-any.whl (139 kB)\n",
      "Using cached botocore-1.35.48-py3-none-any.whl (12.6 MB)\n",
      "Using cached s3transfer-0.10.3-py3-none-any.whl (82 kB)\n",
      "Installing collected packages: botocore, s3transfer, boto3\n",
      "  Attempting uninstall: botocore\n",
      "    Found existing installation: botocore 1.34.69\n",
      "    Uninstalling botocore-1.34.69:\n",
      "      Successfully uninstalled botocore-1.34.69\n",
      "Successfully installed boto3-1.35.48 botocore-1.35.48 s3transfer-0.10.3\n"
     ]
    },
    {
     "name": "stderr",
     "output_type": "stream",
     "text": [
      "ERROR: pip's dependency resolver does not currently take into account all the packages that are installed. This behaviour is the source of the following dependency conflicts.\n",
      "aiobotocore 2.12.3 requires botocore<1.34.70,>=1.34.41, but you have botocore 1.35.48 which is incompatible.\n"
     ]
    }
   ],
   "execution_count": 3
  },
  {
   "metadata": {
    "ExecuteTime": {
     "end_time": "2024-10-25T17:24:53.310935Z",
     "start_time": "2024-10-25T17:24:52.175829Z"
    }
   },
   "cell_type": "code",
   "source": [
    "import boto3\n",
    "print(boto3.__version__)\n"
   ],
   "id": "e97dc77fc6d5de1a",
   "outputs": [
    {
     "name": "stdout",
     "output_type": "stream",
     "text": [
      "1.35.48\n"
     ]
    }
   ],
   "execution_count": 4
  },
  {
   "metadata": {
    "jupyter": {
     "is_executing": true
    },
    "ExecuteTime": {
     "start_time": "2024-10-25T18:46:08.300428Z"
    }
   },
   "cell_type": "code",
   "source": [
    "!pip install awscli\n",
    "!aws --version\n",
    "!aws configure\n"
   ],
   "id": "db785f1ec168535c",
   "outputs": [],
   "execution_count": null
  },
  {
   "metadata": {},
   "cell_type": "code",
   "outputs": [],
   "execution_count": null,
   "source": [
    "import boto3\n",
    "from botocore.exceptions import ClientError\n",
    "\n",
    "def create_iam_users(user_names):\n",
    "    iam_client = boto3.client('iam')\n",
    "\n",
    "    for user_name in user_names:\n",
    "        try:\n",
    "            response = iam_client.create_user(UserName=user_name)\n",
    "            print(f'User {user_name} created successfully!')\n",
    "        except ClientError as e:\n",
    "            print(f'Error creating user {user_name}: {e}')\n",
    "\n",
    "def list_iam_users():\n",
    "    iam_client = boto3.client('iam')\n",
    "    try:\n",
    "        response = iam_client.list_users()\n",
    "        users = response['Users']\n",
    "        \n",
    "        if users:\n",
    "            print(\"\\nList of IAM Users:\")\n",
    "            for user in users:\n",
    "                print(f\"- {user['UserName']}\")\n",
    "        else:\n",
    "            print(\"No IAM users found.\")\n",
    "    except ClientError as e:\n",
    "        print(f'Error listing users: {e}')\n",
    "        \n",
    "if __name__ == \"__main__\":\n",
    "    \n",
    "    user_names = ['narasimha', 'venkat', 'jaga'] \n",
    "    create_iam_users(user_names)\n",
    "    list_iam_users()\n"
   ],
   "id": "9ffdd6653d4615a0"
  }
 ],
 "metadata": {
  "kernelspec": {
   "display_name": "Python 3",
   "language": "python",
   "name": "python3"
  },
  "language_info": {
   "codemirror_mode": {
    "name": "ipython",
    "version": 2
   },
   "file_extension": ".py",
   "mimetype": "text/x-python",
   "name": "python",
   "nbconvert_exporter": "python",
   "pygments_lexer": "ipython2",
   "version": "2.7.6"
  }
 },
 "nbformat": 4,
 "nbformat_minor": 5
}
